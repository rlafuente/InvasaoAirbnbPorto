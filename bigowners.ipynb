{
 "cells": [
  {
   "cell_type": "code",
   "execution_count": 2,
   "metadata": {
    "scrolled": true
   },
   "outputs": [
    {
     "name": "stdout",
     "output_type": "stream",
     "text": [
      "(5115, 133)\n"
     ]
    }
   ],
   "source": [
    "import pandas as pd\n",
    "import numpy as np\n",
    "import sqlite3\n",
    "import re\n",
    "from tqdm import tqdm\n",
    "\n",
    "dfJoined = pd.read_csv('joined_output.csv')\n",
    "\n",
    "\n",
    "print(dfJoined.shape)\n",
    "\n"
   ]
  },
  {
   "cell_type": "code",
   "execution_count": 4,
   "metadata": {
    "scrolled": true
   },
   "outputs": [
    {
     "name": "stdout",
     "output_type": "stream",
     "text": [
      "    nAnuncios  nAnunciantes\n",
      "0           1          1590\n",
      "1           2           367\n",
      "2           3           172\n",
      "3           4           110\n",
      "4           5            66\n",
      "5           6            36\n",
      "6           7            32\n",
      "7           8            11\n",
      "8           9            14\n",
      "9          10             6\n",
      "10         11             4\n",
      "11         12             4\n",
      "12         13             5\n",
      "13         14             3\n",
      "14         15             5\n",
      "15         16             1\n",
      "16         17             2\n",
      "17         18             2\n",
      "18         19             1\n",
      "19         20             2\n",
      "20         26             1\n",
      "21         27             1\n",
      "22         28             2\n",
      "23         35             1\n",
      "24         39             1\n",
      "25         42             1\n",
      "26         45             1\n",
      "27         49             1\n",
      "28         53             1\n"
     ]
    }
   ],
   "source": [
    "counts = dfJoined['host_id'].value_counts()\n",
    "\n",
    "numberOfListings = dfJoined.groupby('host_id').host_id.count()\n",
    "\n",
    "numberDF= pd.DataFrame({'id':numberOfListings.index, 'num':numberOfListings.values})\n",
    "\n",
    "numberDF = numberDF.groupby('num').num.count()\n",
    "\n",
    "numberDF= pd.DataFrame({'nAnuncios':numberDF.index, 'nAnunciantes':numberDF.values})\n",
    "\n",
    "print(numberDF)\n"
   ]
  },
  {
   "cell_type": "code",
   "execution_count": 113,
   "metadata": {},
   "outputs": [
    {
     "data": {
      "text/plain": [
       "True     2955\n",
       "False    1283\n",
       "Name: bigOwner, dtype: int64"
      ]
     },
     "execution_count": 113,
     "metadata": {},
     "output_type": "execute_result"
    }
   ],
   "source": [
    "def bigownersfunc(a):\n",
    "    if (a in bigowners):\n",
    "        return True\n",
    "    else:\n",
    "        return False\n",
    "    \n",
    "    \n",
    "dfCarto['bigOwner'] = dfJoined.host_id.apply(bigownersfunc)\n",
    "dfCarto['bigOwner'].value_counts()"
   ]
  },
  {
   "cell_type": "code",
   "execution_count": 114,
   "metadata": {},
   "outputs": [],
   "source": [
    "dfCarto.to_csv('cartoCLEANEDwithDatesandBigOwners.csv')\n"
   ]
  },
  {
   "cell_type": "code",
   "execution_count": null,
   "metadata": {},
   "outputs": [],
   "source": []
  }
 ],
 "metadata": {
  "kernelspec": {
   "display_name": "Python 3",
   "language": "python",
   "name": "python3"
  },
  "language_info": {
   "codemirror_mode": {
    "name": "ipython",
    "version": 3
   },
   "file_extension": ".py",
   "mimetype": "text/x-python",
   "name": "python",
   "nbconvert_exporter": "python",
   "pygments_lexer": "ipython3",
   "version": "3.7.0"
  }
 },
 "nbformat": 4,
 "nbformat_minor": 2
}
