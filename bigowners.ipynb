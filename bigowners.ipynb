{
 "cells": [
  {
   "cell_type": "code",
   "execution_count": 2,
   "metadata": {
    "scrolled": true
   },
   "outputs": [
    {
     "name": "stdout",
     "output_type": "stream",
     "text": [
      "(5115, 133)\n"
     ]
    }
   ],
   "source": [
    "import pandas as pd\n",
    "import numpy as np\n",
    "import sqlite3\n",
    "import re\n",
    "from tqdm import tqdm\n",
    "\n",
    "dfJoined = pd.read_csv('joined_output.csv')\n",
    "\n",
    "\n",
    "print(dfJoined.shape)\n",
    "\n"
   ]
  },
  {
   "cell_type": "code",
   "execution_count": 7,
   "metadata": {
    "scrolled": true
   },
   "outputs": [
    {
     "name": "stdout",
     "output_type": "stream",
     "text": [
      "host_id\n",
      "117964840     1\n",
      "147420959     1\n",
      "147333129     1\n",
      "147325559     1\n",
      "147222973     1\n",
      "147212634     1\n",
      "147166285     1\n",
      "147108442     1\n",
      "146852698     1\n",
      "146626782     1\n",
      "146618059     1\n",
      "146528094     1\n",
      "146527937     1\n",
      "146523003     1\n",
      "146493681     1\n",
      "146276636     1\n",
      "146165224     1\n",
      "146146787     1\n",
      "145697319     1\n",
      "145475672     1\n",
      "145417812     1\n",
      "145373668     1\n",
      "145237892     1\n",
      "145189870     1\n",
      "144989294     1\n",
      "144848757     1\n",
      "144786632     1\n",
      "144666480     1\n",
      "147492240     1\n",
      "147492992     1\n",
      "             ..\n",
      "164595585    13\n",
      "1138920      13\n",
      "72363890     13\n",
      "3356481      13\n",
      "1266562      14\n",
      "100917523    14\n",
      "47583333     14\n",
      "12897618     15\n",
      "121245519    15\n",
      "89588787     15\n",
      "5897201      15\n",
      "582444       15\n",
      "92456130     16\n",
      "399503       17\n",
      "33634570     17\n",
      "67054724     18\n",
      "49819978     18\n",
      "16922131     19\n",
      "153745488    20\n",
      "235438978    20\n",
      "71506208     26\n",
      "130805492    27\n",
      "2228036      28\n",
      "47191303     28\n",
      "19887538     35\n",
      "101838501    39\n",
      "12730028     42\n",
      "4207615      45\n",
      "30907275     49\n",
      "3953109      53\n",
      "Name: host_id, Length: 2443, dtype: int64\n"
     ]
    }
   ],
   "source": [
    "counts = dfJoined['host_id'].value_counts()\n",
    "\n",
    "numberOfListings = dfJoined.groupby('host_id').host_id.count()\n",
    "\n",
    "numberDF= pd.DataFrame({'id':numberOfListings.index, 'num':numberOfListings.values})\n",
    "\n",
    "numberDF = numberDF.groupby('num').num.count()\n",
    "\n",
    "numberDF= pd.DataFrame({'nAnuncios':numberDF.index, 'nAnunciantes':numberDF.values})\n",
    "\n",
    "print(numberOfListings.sort_values())\n"
   ]
  },
  {
   "cell_type": "code",
   "execution_count": 113,
   "metadata": {},
   "outputs": [
    {
     "data": {
      "text/plain": [
       "True     2955\n",
       "False    1283\n",
       "Name: bigOwner, dtype: int64"
      ]
     },
     "execution_count": 113,
     "metadata": {},
     "output_type": "execute_result"
    }
   ],
   "source": [
    "def bigownersfunc(a):\n",
    "    if (a in bigowners):\n",
    "        return True\n",
    "    else:\n",
    "        return False\n",
    "    \n",
    "    \n",
    "dfCarto['bigOwner'] = dfJoined.host_id.apply(bigownersfunc)\n",
    "dfCarto['bigOwner'].value_counts()"
   ]
  },
  {
   "cell_type": "code",
   "execution_count": 114,
   "metadata": {},
   "outputs": [],
   "source": [
    "dfCarto.to_csv('cartoCLEANEDwithDatesandBigOwners.csv')\n"
   ]
  },
  {
   "cell_type": "code",
   "execution_count": null,
   "metadata": {},
   "outputs": [],
   "source": []
  }
 ],
 "metadata": {
  "kernelspec": {
   "display_name": "Python 3",
   "language": "python",
   "name": "python3"
  },
  "language_info": {
   "codemirror_mode": {
    "name": "ipython",
    "version": 3
   },
   "file_extension": ".py",
   "mimetype": "text/x-python",
   "name": "python",
   "nbconvert_exporter": "python",
   "pygments_lexer": "ipython3",
   "version": "3.7.0"
  }
 },
 "nbformat": 4,
 "nbformat_minor": 2
}
