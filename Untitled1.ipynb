{
 "cells": [
  {
   "cell_type": "code",
   "execution_count": 17,
   "metadata": {},
   "outputs": [],
   "source": [
    "import pandas as pd\n",
    "import numpy as np\n",
    "import sqlite3\n",
    "import re\n",
    "from tqdm import tqdm\n",
    "\n",
    "dfJoined = pd.read_csv('joined_output.csv')"
   ]
  },
  {
   "cell_type": "code",
   "execution_count": 18,
   "metadata": {},
   "outputs": [
    {
     "data": {
      "text/plain": [
       "41.145220    73\n",
       "41.149700    58\n",
       "41.147238    36\n",
       "41.152279    26\n",
       "41.146178    25\n",
       "41.150100    24\n",
       "41.157944    19\n",
       "41.152667    18\n",
       "41.142952    17\n",
       "41.152246    17\n",
       "41.144268    16\n",
       "41.148717    15\n",
       "41.158952    15\n",
       "41.151943    14\n",
       "41.146265    14\n",
       "41.142546    14\n",
       "41.141959    14\n",
       "41.148534    13\n",
       "41.143840    13\n",
       "41.152705    13\n",
       "41.154661    12\n",
       "41.157788    12\n",
       "41.157131    12\n",
       "41.148385    12\n",
       "41.147860    12\n",
       "41.143200    11\n",
       "41.147650    11\n",
       "41.164630    11\n",
       "41.145371    10\n",
       "41.154651    10\n",
       "             ..\n",
       "41.119910     1\n",
       "41.157832     1\n",
       "41.154367     1\n",
       "41.150176     1\n",
       "41.160053     1\n",
       "41.146892     1\n",
       "41.155621     1\n",
       "41.166743     1\n",
       "41.147254     1\n",
       "41.157968     1\n",
       "41.154445     1\n",
       "41.164945     1\n",
       "41.163062     1\n",
       "41.143843     1\n",
       "41.157473     1\n",
       "41.147080     1\n",
       "41.163875     1\n",
       "41.154787     1\n",
       "41.149287     1\n",
       "41.142279     1\n",
       "41.159055     1\n",
       "41.142363     1\n",
       "41.166360     1\n",
       "41.149687     1\n",
       "41.143131     1\n",
       "41.150944     1\n",
       "41.154101     1\n",
       "41.181002     1\n",
       "41.148886     1\n",
       "41.183178     1\n",
       "Name: LATITUDE, Length: 2119, dtype: int64"
      ]
     },
     "execution_count": 18,
     "metadata": {},
     "output_type": "execute_result"
    }
   ],
   "source": [
    "dfJoined.LATITUDE.replace('', np.nan, inplace=True)\n",
    "dfJoined['LATITUDE'].isna().sum()\n",
    "dfJoined['LATITUDE'].value_counts()"
   ]
  },
  {
   "cell_type": "code",
   "execution_count": null,
   "metadata": {},
   "outputs": [],
   "source": []
  }
 ],
 "metadata": {
  "kernelspec": {
   "display_name": "Python 3",
   "language": "python",
   "name": "python3"
  },
  "language_info": {
   "codemirror_mode": {
    "name": "ipython",
    "version": 3
   },
   "file_extension": ".py",
   "mimetype": "text/x-python",
   "name": "python",
   "nbconvert_exporter": "python",
   "pygments_lexer": "ipython3",
   "version": "3.7.0"
  }
 },
 "nbformat": 4,
 "nbformat_minor": 2
}
