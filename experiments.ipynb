{
 "cells": [
  {
   "cell_type": "code",
   "execution_count": 1,
   "metadata": {},
   "outputs": [],
   "source": [
    "import pandas as pd\n",
    "import matplotlib.pyplot as plt\n",
    "import numpy as np\n",
    "import seaborn as sns\n"
   ]
  },
  {
   "cell_type": "code",
   "execution_count": 2,
   "metadata": {},
   "outputs": [],
   "source": [
    "df = pd.read_csv(\"insideairbnb/porto_06-2019_listings.csv\")\n",
    "\n",
    "df['date']=pd.to_datetime(df['first_review'],format='%Y-%m-%d')\n",
    "df['lol'] = 1\n",
    "\n"
   ]
  },
  {
   "cell_type": "code",
   "execution_count": 3,
   "metadata": {},
   "outputs": [],
   "source": [
    "df.index = df['date'] \n",
    "\n",
    "cumulative = df.resample('M').lol.sum().cumsum()"
   ]
  },
  {
   "cell_type": "markdown",
   "metadata": {},
   "source": [
    "Este gráfico mostra a evolução do número de listings de forma comulativa."
   ]
  },
  {
   "cell_type": "code",
   "execution_count": 4,
   "metadata": {},
   "outputs": [
    {
     "data": {
      "text/plain": [
       "<matplotlib.axes._subplots.AxesSubplot at 0x1147dad0>"
      ]
     },
     "execution_count": 4,
     "metadata": {},
     "output_type": "execute_result"
    },
    {
     "data": {
      "image/png": "[encoded data removed]",
      "text/plain": [
       "<Figure size 432x288 with 1 Axes>"
      ]
     },
     "metadata": {
      "needs_background": "light"
     },
     "output_type": "display_data"
    }
   ],
   "source": [
    "cumulative.plot()"
   ]
  },
  {
   "cell_type": "code",
   "execution_count": 5,
   "metadata": {},
   "outputs": [],
   "source": [
    "df = pd.read_csv(\"insideairbnb/porto_06-2019_listings.csv\")\n",
    "\n",
    "numberOfListings = df.groupby('host_id').host_id.count()\n",
    "\n",
    "numberDF= pd.DataFrame({'id':numberOfListings.index, 'num':numberOfListings.values})\n",
    "\n",
    "numberDF = numberDF.groupby('num').num.count()\n",
    "\n",
    "numberDF= pd.DataFrame({'nAnuncios':numberDF.index, 'nAnunciantes':numberDF.values})"
   ]
  },
  {
   "cell_type": "code",
   "execution_count": 6,
   "metadata": {},
   "outputs": [
    {
     "data": {
      "text/plain": [
       "nAnuncios       1032\n",
       "nAnunciantes    1693\n",
       "dtype: int64"
      ]
     },
     "execution_count": 6,
     "metadata": {},
     "output_type": "execute_result"
    }
   ],
   "source": [
    "numberDF[numberDF.nAnuncios > 1].sum()"
   ]
  },
  {
   "cell_type": "code",
   "execution_count": 7,
   "metadata": {},
   "outputs": [
    {
     "name": "stdout",
     "output_type": "stream",
     "text": [
      "    nAnuncios  nAnunciantes\n",
      "0           1          3536\n",
      "1           2           695\n",
      "2           3           327\n",
      "3           4           221\n",
      "4           5           120\n",
      "5           6            99\n",
      "6           7            64\n",
      "7           8            35\n",
      "8           9            31\n",
      "9          10            15\n",
      "10         11            12\n",
      "11         12            12\n",
      "12         13            10\n",
      "13         14             8\n",
      "14         15             5\n",
      "15         16             3\n",
      "16         17             3\n",
      "17         18             1\n",
      "18         19             3\n",
      "19         20             1\n",
      "20         21             3\n",
      "21         22             1\n",
      "22         24             3\n",
      "23         25             2\n",
      "24         27             1\n",
      "25         29             1\n",
      "26         30             1\n",
      "27         32             3\n",
      "28         33             1\n",
      "29         35             2\n",
      "30         37             1\n",
      "31         39             1\n",
      "32         41             1\n",
      "33         46             1\n",
      "34         49             1\n",
      "35         51             1\n",
      "36         52             1\n",
      "37         63             1\n",
      "38         77             1\n",
      "39         90             1\n"
     ]
    }
   ],
   "source": [
    "print(numberDF)"
   ]
  },
  {
   "cell_type": "markdown",
   "metadata": {},
   "source": [
    "3538 anunciantes têm apenas 1 anúncio. 1694 anunciantes têm 2 ou mais anúncios. Ou seja __32%__  dos anunciantes têm 2 ou mais anúncios, que correspondem a __70%__  dos total de anuncios. "
   ]
  },
  {
   "cell_type": "code",
   "execution_count": 8,
   "metadata": {},
   "outputs": [
    {
     "name": "stderr",
     "output_type": "stream",
     "text": [
      "c:\\users\\joão bernardo\\appdata\\local\\programs\\python\\python37-32\\lib\\site-packages\\ipykernel_launcher.py:2: FutureWarning: convert_objects is deprecated.  To re-infer data dtypes for object columns, use Series.infer_objects()\n",
      "For all other conversions use the data-type specific converters pd.to_datetime, pd.to_timedelta and pd.to_numeric.\n",
      "  \n"
     ]
    },
    {
     "data": {
      "text/plain": [
       "<matplotlib.axes._subplots.AxesSubplot at 0x1144bb90>"
      ]
     },
     "execution_count": 8,
     "metadata": {},
     "output_type": "execute_result"
    },
    {
     "data": {
      "image/png": "[encoded data removed]",
      "text/plain": [
       "<Figure size 432x288 with 1 Axes>"
      ]
     },
     "metadata": {
      "needs_background": "light"
     },
     "output_type": "display_data"
    }
   ],
   "source": [
    "dfTotal = pd.read_csv(\"insideairbnb/porto_06-2019_listings.csv\")\n",
    "dfTotal.price = dfTotal.price.str[1:].convert_objects(convert_numeric=True)\n",
    "dfTotal.price.dropna()\n",
    "dfTotal.price = np.nan_to_num(dfTotal.price)\n",
    "\n",
    "\n",
    "sns.distplot(dfTotal['price'], hist=True, kde=True, \n",
    "             bins=int(180/5), color = 'darkblue', \n",
    "             hist_kws={'edgecolor':'black'},\n",
    "             kde_kws={'linewidth': 4})"
   ]
  },
  {
   "cell_type": "markdown",
   "metadata": {},
   "source": [
    "O preço médio é de __68$__ ."
   ]
  },
  {
   "cell_type": "code",
   "execution_count": 9,
   "metadata": {},
   "outputs": [
    {
     "data": {
      "text/plain": [
       "Entire home/apt    8642\n",
       "Private room       2178\n",
       "Shared room         146\n",
       "Name: room_type, dtype: int64"
      ]
     },
     "execution_count": 9,
     "metadata": {},
     "output_type": "execute_result"
    }
   ],
   "source": [
    "df['room_type'].value_counts()"
   ]
  },
  {
   "cell_type": "code",
   "execution_count": 10,
   "metadata": {},
   "outputs": [
    {
     "data": {
      "text/plain": [
       "4     3299\n",
       "2     3185\n",
       "6     1324\n",
       "3     1200\n",
       "5      673\n",
       "8      427\n",
       "1      301\n",
       "7      191\n",
       "10     141\n",
       "9       70\n",
       "12      64\n",
       "16      29\n",
       "14      25\n",
       "11      16\n",
       "13       9\n",
       "15       9\n",
       "18       2\n",
       "17       1\n",
       "Name: accommodates, dtype: int64"
      ]
     },
     "execution_count": 10,
     "metadata": {},
     "output_type": "execute_result"
    }
   ],
   "source": [
    "df['accommodates'].value_counts()"
   ]
  },
  {
   "cell_type": "code",
   "execution_count": null,
   "metadata": {},
   "outputs": [],
   "source": []
  }
 ],
 "metadata": {
  "kernelspec": {
   "display_name": "Python 3",
   "language": "python",
   "name": "python3"
  },
  "language_info": {
   "codemirror_mode": {
    "name": "ipython",
    "version": 3
   },
   "file_extension": ".py",
   "mimetype": "text/x-python",
   "name": "python",
   "nbconvert_exporter": "python",
   "pygments_lexer": "ipython3",
   "version": "3.7.0"
  }
 },
 "nbformat": 4,
 "nbformat_minor": 2
}
