{
 "cells": [
  {
   "cell_type": "code",
   "execution_count": 99,
   "metadata": {},
   "outputs": [],
   "source": [
    "import pandas as pd\n",
    "import matplotlib.pyplot as plt\n",
    "import numpy as np\n"
   ]
  },
  {
   "cell_type": "code",
   "execution_count": 100,
   "metadata": {},
   "outputs": [],
   "source": [
    "df = pd.read_csv(\"insideairbnb/listingsMapa.csv\")\n",
    "\n",
    "df['date']=pd.to_datetime(df['date'],format='%Y-%m-%d')\n",
    "df['lol'] = 1\n",
    "\n",
    "df.index = df['date'] \n",
    "\n",
    "cumulative = df.resample('M').lol.sum().cumsum()\n"
   ]
  },
  {
   "cell_type": "markdown",
   "metadata": {},
   "source": [
    "Este gráfico mostra a evolução do número de listings de forma comulativa."
   ]
  },
  {
   "cell_type": "code",
   "execution_count": 101,
   "metadata": {},
   "outputs": [
    {
     "data": {
      "text/plain": [
       "<matplotlib.axes._subplots.AxesSubplot at 0x15c462f0>"
      ]
     },
     "execution_count": 101,
     "metadata": {},
     "output_type": "execute_result"
    },
    {
     "data": {
      "image/png": "[encoded data removed]",
      "text/plain": [
       "<Figure size 432x288 with 1 Axes>"
      ]
     },
     "metadata": {
      "needs_background": "light"
     },
     "output_type": "display_data"
    }
   ],
   "source": [
    "cumulative.plot()"
   ]
  },
  {
   "cell_type": "code",
   "execution_count": 102,
   "metadata": {},
   "outputs": [],
   "source": [
    "df = pd.read_csv(\"insideairbnb/porto_01-2019_listings.csv\")\n",
    "\n",
    "numberOfListings = df.groupby('host_id').host_id.count()\n",
    "\n",
    "numberDF= pd.DataFrame({'id':numberOfListings.index, 'num':numberOfListings.values})\n",
    "\n",
    "numberDF = numberDF.groupby('num').num.count()\n",
    "\n",
    "numberDF= pd.DataFrame({'nAnuncios':numberDF.index, 'nAnunciantes':numberDF.values})"
   ]
  },
  {
   "cell_type": "code",
   "execution_count": 103,
   "metadata": {},
   "outputs": [
    {
     "data": {
      "text/plain": [
       "nAnuncios        835\n",
       "nAnunciantes    1570\n",
       "dtype: int64"
      ]
     },
     "execution_count": 103,
     "metadata": {},
     "output_type": "execute_result"
    }
   ],
   "source": [
    "numberDF[numberDF.nAnuncios > 1].sum()"
   ]
  },
  {
   "cell_type": "code",
   "execution_count": 104,
   "metadata": {},
   "outputs": [
    {
     "name": "stdout",
     "output_type": "stream",
     "text": [
      "    nAnuncios  nAnunciantes\n",
      "0           1          3369\n",
      "1           2           658\n",
      "2           3           321\n",
      "3           4           191\n",
      "4           5           123\n",
      "5           6            88\n",
      "6           7            48\n",
      "7           8            30\n",
      "8           9            31\n",
      "9          10            10\n",
      "10         11            10\n",
      "11         12            11\n",
      "12         13             6\n",
      "13         14             7\n",
      "14         15             4\n",
      "15         16             1\n",
      "16         17             3\n",
      "17         18             3\n",
      "18         19             2\n",
      "19         20             1\n",
      "20         23             3\n",
      "21         24             1\n",
      "22         25             2\n",
      "23         26             2\n",
      "24         29             1\n",
      "25         30             1\n",
      "26         31             2\n",
      "27         32             1\n",
      "28         35             1\n",
      "29         37             1\n",
      "30         39             1\n",
      "31         40             1\n",
      "32         48             2\n",
      "33         58             1\n",
      "34         66             1\n",
      "35         83             1\n"
     ]
    }
   ],
   "source": [
    "print(numberDF)"
   ]
  },
  {
   "cell_type": "markdown",
   "metadata": {},
   "source": [
    "3369 anunciantes têm apenas 1 anúncio. 1570 anunciantes têm 2 ou mais anúncios. Ou seja __32%__  dos anunciantes têm 2 ou mais anúncios, que correspondem a __68%__  dos total de anuncios. "
   ]
  }
 ],
 "metadata": {
  "kernelspec": {
   "display_name": "Python 3",
   "language": "python",
   "name": "python3"
  },
  "language_info": {
   "codemirror_mode": {
    "name": "ipython",
    "version": 3
   },
   "file_extension": ".py",
   "mimetype": "text/x-python",
   "name": "python",
   "nbconvert_exporter": "python",
   "pygments_lexer": "ipython3",
   "version": "3.7.0"
  }
 },
 "nbformat": 4,
 "nbformat_minor": 2
}
