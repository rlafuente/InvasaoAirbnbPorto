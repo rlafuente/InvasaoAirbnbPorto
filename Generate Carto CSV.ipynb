{
 "cells": [
  {
   "cell_type": "code",
   "execution_count": 3,
   "metadata": {},
   "outputs": [
    {
     "data": {
      "text/html": [
       "<div>\n",
       "<style scoped>\n",
       "    .dataframe tbody tr th:only-of-type {\n",
       "        vertical-align: middle;\n",
       "    }\n",
       "\n",
       "    .dataframe tbody tr th {\n",
       "        vertical-align: top;\n",
       "    }\n",
       "\n",
       "    .dataframe thead th {\n",
       "        text-align: right;\n",
       "    }\n",
       "</style>\n",
       "<table border=\"1\" class=\"dataframe\">\n",
       "  <thead>\n",
       "    <tr style=\"text-align: right;\">\n",
       "      <th></th>\n",
       "      <th>listing_id</th>\n",
       "      <th>host_id</th>\n",
       "      <th>min(date)</th>\n",
       "      <th>latitude</th>\n",
       "      <th>longitude</th>\n",
       "    </tr>\n",
       "  </thead>\n",
       "  <tbody>\n",
       "    <tr>\n",
       "      <th>0</th>\n",
       "      <td>91439</td>\n",
       "      <td>185209</td>\n",
       "      <td>2011-04-23</td>\n",
       "      <td>41.14833</td>\n",
       "      <td>-8.60983</td>\n",
       "    </tr>\n",
       "    <tr>\n",
       "      <th>1</th>\n",
       "      <td>86388</td>\n",
       "      <td>185209</td>\n",
       "      <td>2011-04-26</td>\n",
       "      <td>41.14847</td>\n",
       "      <td>-8.60812</td>\n",
       "    </tr>\n",
       "    <tr>\n",
       "      <th>2</th>\n",
       "      <td>94701</td>\n",
       "      <td>505473</td>\n",
       "      <td>2011-05-10</td>\n",
       "      <td>41.14707</td>\n",
       "      <td>-8.60109</td>\n",
       "    </tr>\n",
       "    <tr>\n",
       "      <th>3</th>\n",
       "      <td>131994</td>\n",
       "      <td>648963</td>\n",
       "      <td>2011-06-29</td>\n",
       "      <td>41.14993</td>\n",
       "      <td>-8.61510</td>\n",
       "    </tr>\n",
       "    <tr>\n",
       "      <th>4</th>\n",
       "      <td>100661</td>\n",
       "      <td>185209</td>\n",
       "      <td>2011-07-04</td>\n",
       "      <td>41.14851</td>\n",
       "      <td>-8.60988</td>\n",
       "    </tr>\n",
       "  </tbody>\n",
       "</table>\n",
       "</div>"
      ],
      "text/plain": [
       "   listing_id  host_id   min(date)  latitude  longitude\n",
       "0       91439   185209  2011-04-23  41.14833   -8.60983\n",
       "1       86388   185209  2011-04-26  41.14847   -8.60812\n",
       "2       94701   505473  2011-05-10  41.14707   -8.60109\n",
       "3      131994   648963  2011-06-29  41.14993   -8.61510\n",
       "4      100661   185209  2011-07-04  41.14851   -8.60988"
      ]
     },
     "execution_count": 3,
     "metadata": {},
     "output_type": "execute_result"
    }
   ],
   "source": [
    "import pandas as pd\n",
    "import sqlite3\n",
    "\n",
    "#read the CSV\n",
    "df1 = pd.read_csv('insideairbnb/porto_06-2019_listings.csv')\n",
    "df2 = pd.read_csv('insideairbnb/porto_06-2019_reviews.csv')\n",
    "#connect to a database\n",
    "conn = sqlite3.connect(\"Any_Database_Name.db\") #if the db does not exist, this creates a Any_Database_Name.db file in the current directory\n",
    "#store your table in the database:\n",
    "df1.to_sql('listings', conn)\n",
    "df2.to_sql('reviews', conn)\n",
    "#read a SQL Query out of your database and into a pandas dataframe\n",
    "sql_string = 'select  listing_id, host_id, min(date), listings.latitude, listings.longitude from reviews join listings on listings.id = reviews.listing_id where listings.neighbourhood_group_cleansed = \"PORTO\" group by listing_id order by date'\n",
    "new_df = pd.read_sql(sql_string, conn)\n",
    "\n",
    "new_df.head()\n",
    "\n",
    "\n"
   ]
  },
  {
   "cell_type": "code",
   "execution_count": 25,
   "metadata": {},
   "outputs": [
    {
     "data": {
      "text/plain": [
       "32.54786    9\n",
       "32.53318    8\n",
       "32.53725    7\n",
       "32.54648    7\n",
       "32.53514    6\n",
       "32.54378    6\n",
       "32.54461    6\n",
       "32.53408    6\n",
       "32.53083    6\n",
       "32.54209    6\n",
       "32.54379    6\n",
       "32.54500    6\n",
       "32.54644    5\n",
       "32.54264    5\n",
       "32.54202    5\n",
       "32.54602    5\n",
       "32.53545    5\n",
       "32.54387    5\n",
       "32.52868    5\n",
       "32.54803    5\n",
       "32.54598    5\n",
       "32.54616    5\n",
       "32.53756    5\n",
       "32.53228    5\n",
       "32.54492    5\n",
       "32.53962    5\n",
       "32.54841    5\n",
       "32.52981    5\n",
       "32.54643    5\n",
       "32.53308    5\n",
       "           ..\n",
       "32.52612    1\n",
       "32.52969    1\n",
       "32.55631    1\n",
       "32.53137    1\n",
       "32.53911    1\n",
       "32.53883    1\n",
       "32.54070    1\n",
       "32.53977    1\n",
       "32.55788    1\n",
       "32.55321    1\n",
       "32.53468    1\n",
       "32.55240    1\n",
       "32.59628    1\n",
       "32.54547    1\n",
       "32.54771    1\n",
       "32.56521    1\n",
       "32.51021    1\n",
       "32.52492    1\n",
       "32.55205    1\n",
       "32.53952    1\n",
       "32.50785    1\n",
       "32.53000    1\n",
       "32.52161    1\n",
       "32.54750    1\n",
       "32.55300    1\n",
       "32.53752    1\n",
       "32.47420    1\n",
       "32.51279    1\n",
       "32.54395    1\n",
       "32.50000    1\n",
       "Name: concatenated, Length: 4727, dtype: int64"
      ]
     },
     "execution_count": 25,
     "metadata": {},
     "output_type": "execute_result"
    }
   ],
   "source": [
    "new_df['concatenated'] = new_df['latitude'] + new_df['longitude']\n",
    "\n",
    "new_df['concatenated'].value_counts()\n",
    "\n",
    "\n",
    "\n"
   ]
  },
  {
   "cell_type": "code",
   "execution_count": 16,
   "metadata": {},
   "outputs": [
    {
     "data": {
      "text/plain": [
       "True     3754\n",
       "False    3196\n",
       "Name: bigOwner, dtype: int64"
      ]
     },
     "execution_count": 16,
     "metadata": {},
     "output_type": "execute_result"
    }
   ],
   "source": [
    "new_df['bigOwner'] = new_df['host_id'].duplicated() \n",
    "\n",
    "\n",
    "\n",
    "new_df['bigOwner'].value_counts()"
   ]
  },
  {
   "cell_type": "code",
   "execution_count": 15,
   "metadata": {},
   "outputs": [],
   "source": [
    "new_df.to_csv('mapdata.csv', encoding='utf-8')"
   ]
  },
  {
   "cell_type": "code",
   "execution_count": null,
   "metadata": {},
   "outputs": [],
   "source": []
  },
  {
   "cell_type": "code",
   "execution_count": null,
   "metadata": {},
   "outputs": [],
   "source": []
  }
 ],
 "metadata": {
  "kernelspec": {
   "display_name": "Python 3",
   "language": "python",
   "name": "python3"
  },
  "language_info": {
   "codemirror_mode": {
    "name": "ipython",
    "version": 3
   },
   "file_extension": ".py",
   "mimetype": "text/x-python",
   "name": "python",
   "nbconvert_exporter": "python",
   "pygments_lexer": "ipython3",
   "version": "3.7.0"
  }
 },
 "nbformat": 4,
 "nbformat_minor": 2
}
